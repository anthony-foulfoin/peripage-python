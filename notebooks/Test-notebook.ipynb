{
 "cells": [
  {
   "cell_type": "code",
   "execution_count": 1,
   "metadata": {},
   "outputs": [],
   "source": [
    "import peripage\n",
    "\n",
    "printer = peripage.Printer(\n",
    "    mac='00:15:83:15:BC:5F',\n",
    "    printer_type=peripage.PrinterType.A6p\n",
    ")\n",
    "printer.connect()\n"
   ]
  },
  {
   "cell_type": "code",
   "execution_count": 2,
   "metadata": {},
   "outputs": [],
   "source": [
    "printer.disconnect()\n"
   ]
  },
  {
   "cell_type": "code",
   "execution_count": 3,
   "metadata": {},
   "outputs": [],
   "source": [
    "printer.reconnect()\n"
   ]
  },
  {
   "cell_type": "code",
   "execution_count": 4,
   "metadata": {},
   "outputs": [],
   "source": [
    "printer.reset()\n"
   ]
  },
  {
   "cell_type": "code",
   "execution_count": 5,
   "metadata": {},
   "outputs": [
    {
     "name": "stdout",
     "output_type": "stream",
     "text": [
      "b'IP-300'\n",
      "b'PeriPage+BC5F'\n",
      "b'A6491571121'\n",
      "b'V2.11_304dpi'\n",
      "93\n",
      "b'BR2141e-s(A02)_B9_20190815_r3460'\n",
      "b'\\x00\\x15\\x83\\x15\\xbc_\\xc0\\x15\\x83\\x15\\xbc_'\n",
      "b'PeriPage+BC5F|00:15:83:15:BC:5F|C0:15:83:15:BC:5F|V2.11_304dpi|A6491571121|93'\n"
     ]
    }
   ],
   "source": [
    "print(printer.getDeviceIP())\n",
    "print(printer.getDeviceName())\n",
    "print(printer.getDeviceSerialNumber())\n",
    "print(printer.getDeviceFirmware())\n",
    "print(printer.getDeviceBattery())\n",
    "print(printer.getDeviceHardware())\n",
    "print(printer.getDeviceMAC())\n",
    "print(printer.getDeviceFull())\n"
   ]
  },
  {
   "cell_type": "code",
   "execution_count": 6,
   "metadata": {},
   "outputs": [
    {
     "name": "stdout",
     "output_type": "stream",
     "text": [
      "b'A6491571121'\n",
      "b'abobus'\n",
      "b'A6491571121'\n"
     ]
    }
   ],
   "source": [
    "print(printer.getDeviceSerialNumber())\n",
    "printer.reset()\n",
    "printer.setDeviceSerialNumber('abobus')\n",
    "print(printer.getDeviceSerialNumber())\n",
    "printer.reset()\n",
    "printer.setDeviceSerialNumber('A6491571121')\n",
    "print(printer.getDeviceSerialNumber())\n"
   ]
  },
  {
   "cell_type": "code",
   "execution_count": 7,
   "metadata": {},
   "outputs": [
    {
     "data": {
      "text/plain": [
       "b'OK'"
      ]
     },
     "execution_count": 7,
     "metadata": {},
     "output_type": "execute_result"
    }
   ],
   "source": [
    "printer.setPowerTimeout(1)\n",
    "# Will power off in one minute\n"
   ]
  },
  {
   "cell_type": "code",
   "execution_count": 10,
   "metadata": {},
   "outputs": [
    {
     "data": {
      "text/plain": [
       "b'OK'"
      ]
     },
     "execution_count": 10,
     "metadata": {},
     "output_type": "execute_result"
    }
   ],
   "source": [
    "printer.setPowerTimeout(60)\n"
   ]
  },
  {
   "cell_type": "code",
   "execution_count": 11,
   "metadata": {},
   "outputs": [],
   "source": [
    "printer.printBreak(100)\n",
    "# Should output a break of 100px\n"
   ]
  },
  {
   "cell_type": "code",
   "execution_count": 13,
   "metadata": {},
   "outputs": [
    {
     "data": {
      "text/plain": [
       "''"
      ]
     },
     "execution_count": 13,
     "metadata": {},
     "output_type": "execute_result"
    }
   ],
   "source": [
    "printer.print_buffer = ''\n",
    "printer.printASCII('a' * printer.getRowCharacters())\n",
    "printer.print_buffer\n",
    "# Shoud print out a full line\n"
   ]
  },
  {
   "cell_type": "code",
   "execution_count": 14,
   "metadata": {},
   "outputs": [
    {
     "data": {
      "text/plain": [
       "'aaaaaaaaaaaaaaaaaaaaaaaaaaaaaaaaaaaaaaaaaaaaaaa'"
      ]
     },
     "execution_count": 14,
     "metadata": {},
     "output_type": "execute_result"
    }
   ],
   "source": [
    "printer.printASCII('a' * (printer.getRowCharacters() - 1))\n",
    "printer.print_buffer\n",
    "# Shoud not print\n"
   ]
  },
  {
   "cell_type": "code",
   "execution_count": 12,
   "metadata": {},
   "outputs": [
    {
     "data": {
      "text/plain": [
       "''"
      ]
     },
     "execution_count": 12,
     "metadata": {},
     "output_type": "execute_result"
    }
   ],
   "source": [
    "printer.print_buffer = 'a' * (printer.getRowCharacters() - 1)\n",
    "printer.printASCII('\\n')\n",
    "printer.print_buffer\n",
    "# Shoud flush the above data\n"
   ]
  },
  {
   "cell_type": "code",
   "execution_count": 14,
   "metadata": {},
   "outputs": [
    {
     "data": {
      "text/plain": [
       "''"
      ]
     },
     "execution_count": 14,
     "metadata": {},
     "output_type": "execute_result"
    }
   ],
   "source": [
    "printer.print_buffer = ''\n",
    "printer.printASCII(('a' * printer.getRowCharacters()) + ('a' * (printer.getRowCharacters() - 1)) + '\\n')\n",
    "printer.print_buffer\n",
    "# Shoud print two lines (one incomplete)\n"
   ]
  },
  {
   "cell_type": "code",
   "execution_count": 18,
   "metadata": {},
   "outputs": [
    {
     "data": {
      "text/plain": [
       "'aaaaaaaaaaaaaaaaaaaaaaaaaaaaaaaaaaaaaaaaaaaaaaa'"
      ]
     },
     "execution_count": 18,
     "metadata": {},
     "output_type": "execute_result"
    }
   ],
   "source": [
    "printer.print_buffer = ''\n",
    "printer.printASCII(('a' * printer.getRowCharacters()) + ('a' * (printer.getRowCharacters() - 1)))\n",
    "printer.print_buffer\n",
    "# Shoud print one line\n"
   ]
  },
  {
   "cell_type": "code",
   "execution_count": 19,
   "metadata": {},
   "outputs": [
    {
     "data": {
      "text/plain": [
       "''"
      ]
     },
     "execution_count": 19,
     "metadata": {},
     "output_type": "execute_result"
    }
   ],
   "source": [
    "printer.print_buffer = ''\n",
    "printer.printASCII('\\n\\n')\n",
    "printer.print_buffer\n",
    "# Shoud print two newlines\n"
   ]
  },
  {
   "cell_type": "code",
   "execution_count": 31,
   "metadata": {},
   "outputs": [],
   "source": [
    "for i in range(10):\n",
    "    printer.printRow(bytes.fromhex('55' * printer.getRowBytes()))\n",
    "# Shoud write a single black-white row with pattern 01010101\n",
    "\n",
    "for i in range(10):\n",
    "    printer.printRow(bytes.fromhex('aa' * printer.getRowBytes()))\n",
    "# Shoud write a single black-white row with pattern 10101010 (inverse)\n"
   ]
  },
  {
   "cell_type": "code",
   "execution_count": 33,
   "metadata": {},
   "outputs": [],
   "source": [
    "chunk = [ bytes.fromhex('55' * printer.getRowBytes()), bytes.fromhex('aa' * printer.getRowBytes()) ] * 20\n",
    "printer.printRowBytesIterator(chunk)\n",
    "# Should write grid using iterator (very slow)\n"
   ]
  },
  {
   "cell_type": "code",
   "execution_count": 34,
   "metadata": {},
   "outputs": [],
   "source": [
    "half_0 = '00' * (printer.getRowBytes() // 2)\n",
    "half_1 = 'ff' * (printer.getRowBytes() // 2)\n",
    "\n",
    "half_left = bytes.fromhex(half_1 + half_0)\n",
    "half_right = bytes.fromhex(half_0 + half_1)\n",
    "\n",
    "chunk = [ half_left ] * 20 + [ half_right ] * 20\n",
    "chunk += chunk\n",
    "\n",
    "printer.printRowBytesIterator(chunk)\n",
    "# Should output a half-black followed by inverse half black using iterator (very slow)\n"
   ]
  },
  {
   "cell_type": "code",
   "execution_count": 5,
   "metadata": {},
   "outputs": [],
   "source": [
    "chunk = [ bytes.fromhex('55' * printer.getRowBytes()), bytes.fromhex('aa' * printer.getRowBytes()) ] * 20\n",
    "printer.printRowBytesList(chunk)\n",
    "# Should write grid using list\n"
   ]
  },
  {
   "cell_type": "code",
   "execution_count": 7,
   "metadata": {},
   "outputs": [],
   "source": [
    "half_0 = '00' * (printer.getRowBytes() // 2)\n",
    "half_1 = 'ff' * (printer.getRowBytes() // 2)\n",
    "\n",
    "half_left = bytes.fromhex(half_1 + half_0)\n",
    "half_right = bytes.fromhex(half_0 + half_1)\n",
    "\n",
    "chunk = [ half_left ] * 20 + [ half_right ] * 20\n",
    "chunk += chunk\n",
    "\n",
    "printer.printRowBytesList(chunk)\n",
    "# Should output a half-black followed by inverse half black using list\n"
   ]
  },
  {
   "cell_type": "code",
   "execution_count": 8,
   "metadata": {},
   "outputs": [],
   "source": [
    "half_0 = '00' * (printer.getRowBytes() // 2)\n",
    "half_1 = 'ff' * (printer.getRowBytes() // 2)\n",
    "\n",
    "half_left = bytes.fromhex(half_1 + half_0)\n",
    "half_right = bytes.fromhex(half_0 + half_1)\n",
    "\n",
    "chunk = [ half_left ] * 20 + [ half_right ] * 20\n",
    "\n",
    "printer.printRowChunksIterator([ chunk, chunk ])\n",
    "# Should output a half-black followed by inverse half black using chunk iterator\n"
   ]
  },
  {
   "cell_type": "code",
   "execution_count": 9,
   "metadata": {},
   "outputs": [],
   "source": [
    "import PIL.Image\n",
    "\n",
    "honk = PIL.Image.open('honk.png')\n",
    "\n",
    "printer.printImage(honk)\n",
    "# Should print a honk\n"
   ]
  },
  {
   "cell_type": "code",
   "execution_count": 11,
   "metadata": {},
   "outputs": [],
   "source": [
    "import PIL.Image\n",
    "\n",
    "honk = PIL.Image.open('honk.png')\n",
    "\n",
    "pieces = [\n",
    "    honk.crop((0, 0, honk.size[0], honk.size[1] // 2)),\n",
    "    honk.crop((0, honk.size[1] // 2, honk.size[0], honk.size[1])),\n",
    "]\n",
    "\n",
    "printer.printImageIterator(reversed(pieces))\n",
    "# Should print a honk from two pieces using iterator, image is reversed for text\n"
   ]
  },
  {
   "cell_type": "code",
   "execution_count": 12,
   "metadata": {},
   "outputs": [],
   "source": [
    "import PIL.Image\n",
    "\n",
    "honk = PIL.Image.open('honk.png')\n",
    "\n",
    "printer.setConcentration(0)\n",
    "printer.printImage(honk)\n",
    "\n",
    "printer.setConcentration(1)\n",
    "printer.printImage(honk)\n",
    "\n",
    "printer.setConcentration(2)\n",
    "printer.printImage(honk)\n",
    "# Should print a honk 3 times with different concentration\n"
   ]
  },
  {
   "cell_type": "code",
   "execution_count": 13,
   "metadata": {},
   "outputs": [],
   "source": [
    "printer.printQR('https://www.youtube.com/watch?v=dQw4w9WgXcQ')\n",
    "# Never gonna give you up\n"
   ]
  }
 ],
 "metadata": {
  "kernelspec": {
   "display_name": "Python 3",
   "language": "python",
   "name": "python3"
  },
  "language_info": {
   "codemirror_mode": {
    "name": "ipython",
    "version": 3
   },
   "file_extension": ".py",
   "mimetype": "text/x-python",
   "name": "python",
   "nbconvert_exporter": "python",
   "pygments_lexer": "ipython3",
   "version": "3.9.13"
  },
  "orig_nbformat": 4
 },
 "nbformat": 4,
 "nbformat_minor": 2
}
